{
 "cells": [
  {
   "cell_type": "markdown",
   "metadata": {},
   "source": [
    "# Integration and calibration benchmarks"
   ]
  },
  {
   "cell_type": "markdown",
   "metadata": {},
   "source": [
    "This benchmark requires the `DL1_integrations.h5` file produced by `Preparation/integration_prep.ipynb`"
   ]
  },
  {
   "cell_type": "code",
   "execution_count": null,
   "metadata": {},
   "outputs": [],
   "source": [
    "import numpy as np\n",
    "import matplotlib.pyplot as plt\n",
    "import pandas as pd\n",
    "import seaborn as sns\n",
    "from scipy import stats\n",
    "\n",
    "from ctapipe.visualization import CameraDisplay\n",
    "from ctapipe.instrument import CameraGeometry\n",
    "\n",
    "from h5py import File"
   ]
  },
  {
   "cell_type": "code",
   "execution_count": null,
   "metadata": {},
   "outputs": [],
   "source": [
    "from IPython.core.display import display, HTML\n",
    "display(HTML(\"<style>.container { width:95% !important; }</style>\"));"
   ]
  },
  {
   "cell_type": "code",
   "execution_count": null,
   "metadata": {
    "tags": [
     "parameters"
    ]
   },
   "outputs": [],
   "source": [
    "prepared_data_dir = '../../prepared_data'\n",
    "\n",
    "pe_max = 50"
   ]
  },
  {
   "cell_type": "code",
   "execution_count": null,
   "metadata": {},
   "outputs": [],
   "source": [
    "filename = prepared_data_dir + '/DL1_integrations.h5'"
   ]
  },
  {
   "cell_type": "code",
   "execution_count": null,
   "metadata": {},
   "outputs": [],
   "source": [
    "file = File(filename)"
   ]
  },
  {
   "cell_type": "code",
   "execution_count": null,
   "metadata": {},
   "outputs": [],
   "source": [
    "integrators = list(file.keys())\n",
    "cam_ids = list(file[integrators[0]])"
   ]
  },
  {
   "cell_type": "markdown",
   "metadata": {},
   "source": [
    "## Introduction"
   ]
  },
  {
   "cell_type": "markdown",
   "metadata": {},
   "source": [
    "In this benchmark, we select the pixels containing signal based on the true photo-electron images.   \n",
    "Here is an example:"
   ]
  },
  {
   "cell_type": "code",
   "execution_count": null,
   "metadata": {},
   "outputs": [],
   "source": [
    "integrator = integrators[0]\n",
    "\n",
    "for cam_id in cam_ids:\n",
    "    print(cam_id)\n",
    "    calibrated_image = file[integrator][cam_id]['image_calibrated'][0]\n",
    "    pe_image = file[integrator][cam_id]['image_true_pe'][0]\n",
    "    mask = pe_image > 0\n",
    "    geom = CameraGeometry.from_name(cam_id)\n",
    "    \n",
    "    fig, axes = plt.subplots(1,2, figsize=(20,8))\n",
    "    display = CameraDisplay(geom, pe_image, ax=axes[0])\n",
    "    display.highlight_pixels(mask, color='red')\n",
    "    axes[0].set_title('true pe image for {}'.format(cam_id))\n",
    "    display = CameraDisplay(geom, calibrated_image, ax=axes[1])\n",
    "    display.highlight_pixels(mask, color='red')\n",
    "    axes[1].set_title('calibrated image for {}'.format(cam_id))\n",
    "    \n",
    "    plt.tight_layout()\n",
    "    plt.savefig('pixel_selection.png')"
   ]
  },
  {
   "cell_type": "markdown",
   "metadata": {},
   "source": [
    "## Background distribution"
   ]
  },
  {
   "cell_type": "code",
   "execution_count": null,
   "metadata": {},
   "outputs": [],
   "source": [
    "for integrator in integrators:\n",
    "    print(integrator)\n",
    "    print('--------')\n",
    "    \n",
    "    fig, axes = plt.subplots(1, 2, figsize=(18,8))\n",
    "    opt = dict(bins=100, alpha=0.8, density=True, histtype='step', lw=3)\n",
    "\n",
    "    for cam_id in list(file[integrator]):\n",
    "\n",
    "        cal_image = file[integrator][cam_id]['image_calibrated']\n",
    "        pe_image = file[integrator][cam_id]['image_true_pe']\n",
    "        mask_background = pe_image > 0\n",
    "        masked_images = np.ma.array(cal_image, mask=mask_background)\n",
    "\n",
    "        axes[0].set_title(\"pixels with signal\".format(cam_id))\n",
    "        pixels_intensity = masked_images.data[masked_images.mask]\n",
    "        axes[0].hist(pixels_intensity, range=(-15, 50), label=cam_id, **opt);\n",
    "        axes[0].set_xlabel(\"p.e.\")\n",
    "\n",
    "        print(\"{}\".format(cam_id))\n",
    "        print(\"pixels with signal\")\n",
    "        print(\"min: {:.2f}\\tmax: {:.2f}\\tmean: {:.2f}\".format(pixels_intensity.min(), \n",
    "                                                               pixels_intensity.max(),\n",
    "                                                               pixels_intensity.mean()))\n",
    "\n",
    "\n",
    "\n",
    "        axes[1].set_title(\"pixels with no signal\".format(cam_id))\n",
    "        pixels_intensity = masked_images.data[~masked_images.mask]\n",
    "        axes[1].hist(pixels_intensity, range=(-15, 15), **opt, label=cam_id);\n",
    "        axes[1].set_xlabel(\"p.e.\")\n",
    "\n",
    "        print(\"pixels with no signal\")\n",
    "        print(\"min: {:.2f}\\tmax: {:.2f}\\tmean: {:.2f}\\n\".format(pixels_intensity.min(), \n",
    "                                                               pixels_intensity.max(),\n",
    "                                                               pixels_intensity.mean()\n",
    "                                                              ))\n",
    "    \n",
    "    axes[0].legend();\n",
    "    axes[1].legend();\n",
    "    plt.show()"
   ]
  },
  {
   "cell_type": "markdown",
   "metadata": {},
   "source": [
    "## Dispersion"
   ]
  },
  {
   "cell_type": "code",
   "execution_count": null,
   "metadata": {},
   "outputs": [],
   "source": [
    "\n",
    "for cam_id in cam_ids:\n",
    "    print(cam_id)\n",
    "    print('------------')\n",
    "    \n",
    "    fig_px, axes_px = plt.subplots(1, 2, figsize=(20,8))\n",
    "    \n",
    "    for ii, integrator in enumerate(integrators):\n",
    "\n",
    " \n",
    "        calibrated_images = file[integrator][cam_id]['image_calibrated']\n",
    "        pe_image = file[integrator][cam_id]['image_true_pe']\n",
    "        mc_energy = file[integrator][cam_id]['mcevent_energy']\n",
    "        \n",
    "        # select only pixels with signal\n",
    "        signal_pixels = pe_image > 0\n",
    "        \n",
    "        x = pe_image[signal_pixels]\n",
    "        y = calibrated_images[signal_pixels]\n",
    "        \n",
    "        y = y[x < pe_max]\n",
    "        x = x[x < pe_max]\n",
    "\n",
    "        sns.regplot(x, y,\n",
    "                    label=cam_id+'_'+integrator,\n",
    "                    scatter_kws={'alpha':0.7},\n",
    "                    x_bins = 20,\n",
    "                    ax=axes_px[0],\n",
    "                    color=plt.cm.Dark2(ii),\n",
    "                   )\n",
    "        axes_px[0].plot(x, x, color='black', lw=0.5)\n",
    "               \n",
    "        sns.regplot(x, np.abs(y - x)/x,\n",
    "                    label=cam_id+'_'+integrator,\n",
    "                    scatter_kws={'alpha':0.7},\n",
    "                    x_bins = 20,\n",
    "                    ax=axes_px[1],\n",
    "                    color=plt.cm.Dark2(ii),\n",
    "                    fit_reg=False,\n",
    "               )\n",
    "\n",
    "\n",
    "    axes_px[0].legend()\n",
    "    axes_px[0].set_xlabel('true p.e. per pixel')\n",
    "    axes_px[0].set_ylabel('calibrated p.e. per pixel')\n",
    "    axes_px[0].set_title('Evolution of the calibrated p.e. value as a function of the true p.e. value\\nOnly pixels with signal are selected')\n",
    "    axes_px[1].legend()\n",
    "    axes_px[1].set_xlabel('true p.e. per pixel')\n",
    "    axes_px[1].set_ylabel(r'$\\frac{calibrated - true}{true}$', fontsize=16)\n",
    "    axes_px[1].set_title('Evolution of the relative error for calibrated pixels values')\n",
    "    \n",
    "    plt.tight_layout()\n",
    "    plt.show()"
   ]
  },
  {
   "cell_type": "code",
   "execution_count": null,
   "metadata": {},
   "outputs": [],
   "source": [
    "file.close()"
   ]
  },
  {
   "cell_type": "code",
   "execution_count": null,
   "metadata": {},
   "outputs": [],
   "source": []
  }
 ],
 "metadata": {
  "celltoolbar": "Tags",
  "kernelspec": {
   "display_name": "Python 3",
   "language": "python",
   "name": "python3"
  },
  "language_info": {
   "codemirror_mode": {
    "name": "ipython",
    "version": 3
   },
   "file_extension": ".py",
   "mimetype": "text/x-python",
   "name": "python",
   "nbconvert_exporter": "python",
   "pygments_lexer": "ipython3",
   "version": "3.7.6"
  },
  "nteract": {
   "version": "0.12.3"
  }
 },
 "nbformat": 4,
 "nbformat_minor": 2
}
