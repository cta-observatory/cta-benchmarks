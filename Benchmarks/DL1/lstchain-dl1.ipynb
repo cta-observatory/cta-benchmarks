{
 "cells": [
  {
   "cell_type": "markdown",
   "metadata": {},
   "source": [
    "# lstchain DL1 checks"
   ]
  },
  {
   "cell_type": "code",
   "execution_count": null,
   "metadata": {},
   "outputs": [],
   "source": [
    "from lstchain.io.io import dl1_params_lstcam_key, dl1_images_lstcam_key\n",
    "import tables\n",
    "import os\n",
    "import ctaplot\n",
    "import matplotlib.pyplot as plt\n",
    "import pandas as pd"
   ]
  },
  {
   "cell_type": "code",
   "execution_count": null,
   "metadata": {
    "tags": [
     "parameters"
    ]
   },
   "outputs": [],
   "source": [
    "# parameters \n",
    "prepared_data_dir = '../../Preparation/prepared_data/'\n",
    "dl1_filename = 'dl1_gamma_20deg_0deg_run100___cta-prod3-lapalma3-2147m-LaPalma_cone10.simtel.h5'"
   ]
  },
  {
   "cell_type": "code",
   "execution_count": null,
   "metadata": {},
   "outputs": [],
   "source": [
    "with tables.open_file(os.path.join(prepared_data_dir, dl1_filename)) as dl1_file:\n",
    "    calibrated_images = dl1_file.root.dl1.event.telescope.image.LST_LSTCam[:]['image']\n",
    "    pe_images = dl1_file.root.dl1.event.simulation.LST_LSTCam[:]['photo_electron_image']"
   ]
  },
  {
   "cell_type": "code",
   "execution_count": null,
   "metadata": {},
   "outputs": [],
   "source": [
    "plt.figure(figsize=(17,9))\n",
    "ctaplot.plots.calib.plot_photoelectron_true_reco(pe_images.ravel(), calibrated_images.ravel())"
   ]
  },
  {
   "cell_type": "code",
   "execution_count": null,
   "metadata": {},
   "outputs": [],
   "source": [
    "plt.figure(figsize=(17,9))\n",
    "ctaplot.plots.calib.plot_charge_resolution(pe_images.ravel(), calibrated_images.ravel())"
   ]
  },
  {
   "cell_type": "code",
   "execution_count": null,
   "metadata": {},
   "outputs": [],
   "source": [
    "plt.figure(figsize=(17,9))\n",
    "ctaplot.plots.calib.plot_pixels_pe_spectrum(pe_images.ravel(), calibrated_images.ravel())"
   ]
  },
  {
   "cell_type": "code",
   "execution_count": null,
   "metadata": {},
   "outputs": [],
   "source": [
    "dl1_params = pd.read_hdf(os.path.join(prepared_data_dir, dl1_filename), key=dl1_params_lstcam_key)"
   ]
  },
  {
   "cell_type": "code",
   "execution_count": null,
   "metadata": {},
   "outputs": [],
   "source": [
    "dl1_params.hist(figsize=(20,20));\n",
    "plt.tight_layout()"
   ]
  },
  {
   "cell_type": "code",
   "execution_count": null,
   "metadata": {},
   "outputs": [],
   "source": []
  }
 ],
 "metadata": {
  "celltoolbar": "Tags",
  "kernelspec": {
   "display_name": "lst-dev",
   "language": "python",
   "name": "lst-dev"
  },
  "language_info": {
   "codemirror_mode": {
    "name": "ipython",
    "version": 3
   },
   "file_extension": ".py",
   "mimetype": "text/x-python",
   "name": "python",
   "nbconvert_exporter": "python",
   "pygments_lexer": "ipython3",
   "version": "3.7.3"
  }
 },
 "nbformat": 4,
 "nbformat_minor": 2
}
