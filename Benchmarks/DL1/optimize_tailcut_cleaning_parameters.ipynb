{
 "cells": [
  {
   "cell_type": "markdown",
   "metadata": {},
   "source": [
    "# Study on (tailcut) cleaning optimisation"
   ]
  },
  {
   "cell_type": "markdown",
   "metadata": {},
   "source": [
    "Notes:\n",
    "- This benchmark might not be optimal\n",
    "- DL1 file prepared with ctapipe-stage1"
   ]
  },
  {
   "cell_type": "markdown",
   "metadata": {},
   "source": [
    "The idea here is to define a benchmark to optimise cleaning independently of any reconstruction that would come **after**.    \n",
    "This to avoid optimising the cleaning as a function of the whole reconstruction as:   \n",
    "- it can be tedious (you have to loop over the whole reconstruction)    \n",
    "- optimising cleaning before optimising the later part of the reconstruction might end up in reaching a cleaning well adapted to the reconstruction method chosen a priori but not good in absolute. (then a different/better reconstruction might end-up showing worst results)\n",
    "\n",
    "\n",
    "This benchmark uses the the ground thruth image in photo-electron from MC simulations by computing the distance between the cleaned image and the ground truth as a function of cleaning method/parameters and finding the minimum of this distance (average on many events).\n",
    "\n",
    "This also allow to study the cleaning as a function of event info (such as energy, signal amplitude... )\n",
    "\n",
    "Of course, this supposes that the calibration has been previously optimised."
   ]
  },
  {
   "cell_type": "code",
   "execution_count": null,
   "metadata": {},
   "outputs": [],
   "source": [
    "from IPython.core.display import display, HTML\n",
    "display(HTML(\"<style>.container { width:90% !important; }</style>\"))\n"
   ]
  },
  {
   "cell_type": "code",
   "execution_count": null,
   "metadata": {},
   "outputs": [],
   "source": [
    "import ctapipe\n",
    "print(ctapipe.__version__)"
   ]
  },
  {
   "cell_type": "code",
   "execution_count": null,
   "metadata": {},
   "outputs": [],
   "source": [
    "from ctapipe.io import EventSource\n",
    "from ctapipe.utils import datasets\n",
    "from ctapipe.calib import CameraCalibrator\n",
    "from ctapipe.image import tailcuts_clean, dilate\n",
    "from ctapipe.visualization import CameraDisplay\n",
    "from ctapipe.instrument import CameraGeometry\n",
    "import matplotlib.pyplot as plt\n",
    "import numpy as np\n",
    "from tqdm import tqdm\n",
    "from scipy.stats import poisson\n",
    "import os\n",
    "from ctapipe.utils import get_dataset_path\n",
    "from ctapipe.io import read_table\n",
    "from ctapipe.instrument import SubarrayDescription  # for working with CTA instruments\n",
    "from astropy.table import join\n",
    "\n",
    "from ctapipe.utils.download import download_file_cached\n",
    "\n",
    "import copy\n",
    "import astropy.units as u\n",
    "import tables\n",
    "from astropy.table import Table, vstack\n",
    "%matplotlib inline"
   ]
  },
  {
   "cell_type": "code",
   "execution_count": null,
   "metadata": {},
   "outputs": [],
   "source": [
    "ls ../../prepared_data/"
   ]
  },
  {
   "cell_type": "code",
   "execution_count": null,
   "metadata": {},
   "outputs": [],
   "source": [
    "remote_url = \"http://cccta-dataserver.in2p3.fr/data/Prod5_Paranal_North_20deg_ctapipe_v0.10.5_DL1/\"\n",
    "filename = \"gamma_20deg_0deg_run107___cta-prod5-paranal_desert-2147m-Paranal-dark_cone10_merged.DL1.h5\""
   ]
  },
  {
   "cell_type": "code",
   "execution_count": null,
   "metadata": {},
   "outputs": [],
   "source": [
    "filename = download_file_cached(filename, default_url=remote_url)"
   ]
  },
  {
   "cell_type": "code",
   "execution_count": null,
   "metadata": {},
   "outputs": [],
   "source": [
    "filename"
   ]
  },
  {
   "cell_type": "code",
   "execution_count": null,
   "metadata": {},
   "outputs": [],
   "source": [
    "subarray = SubarrayDescription.from_hdf(filename)\n",
    "subarray.info()\n",
    "subarray.peek()"
   ]
  },
  {
   "cell_type": "code",
   "execution_count": null,
   "metadata": {},
   "outputs": [],
   "source": [
    "subarray.tel_ids"
   ]
  },
  {
   "cell_type": "code",
   "execution_count": null,
   "metadata": {},
   "outputs": [],
   "source": [
    "telescope_types = subarray.telescope_types"
   ]
  },
  {
   "cell_type": "code",
   "execution_count": null,
   "metadata": {},
   "outputs": [],
   "source": [
    "def read_images_from_telescope_type(filename, telescope_type):\n",
    "    images_tables = []\n",
    "    for tel_id in subarray.get_tel_ids_for_type(telescope_type):\n",
    "        images = read_table(filename, f\"/dl1/event/telescope/images/tel_{tel_id:03d}\")\n",
    "        sim_images = read_table(filename, f\"/simulation/event/telescope/images/tel_{tel_id:03d}\")\n",
    "        images_tables.append(join(images, sim_images, keys=['event_id', 'tel_id', 'obs_id']))\n",
    "        \n",
    "    return vstack(images_tables)"
   ]
  },
  {
   "cell_type": "code",
   "execution_count": null,
   "metadata": {},
   "outputs": [],
   "source": [
    "subarray.to_table()"
   ]
  },
  {
   "cell_type": "code",
   "execution_count": null,
   "metadata": {},
   "outputs": [],
   "source": [
    "telescope_types"
   ]
  },
  {
   "cell_type": "code",
   "execution_count": null,
   "metadata": {},
   "outputs": [],
   "source": [
    "tel_type = telescope_types[0]\n",
    "\n",
    "geometry = subarray.tels[subarray.get_tel_ids_for_type(tel_type)[0]].camera.geometry\n",
    "image_table = read_images_from_telescope_type(filename, tel_type)"
   ]
  },
  {
   "cell_type": "code",
   "execution_count": null,
   "metadata": {},
   "outputs": [],
   "source": []
  },
  {
   "cell_type": "code",
   "execution_count": null,
   "metadata": {},
   "outputs": [],
   "source": [
    "def residuals_after_cleaning(cleaned_image, true_image):\n",
    "    return (cleaned_image-true_image)"
   ]
  },
  {
   "cell_type": "code",
   "execution_count": null,
   "metadata": {},
   "outputs": [],
   "source": [
    "import copy\n",
    "\n",
    "def add_residuals_to_table(image_table):\n",
    "    cleaned_images = copy.deepcopy(image_table['image'])\n",
    "    cleaned_images[~image_table['image_mask']]=0\n",
    "    image_table['residuals'] = residuals_after_cleaning(cleaned_images, image_table['true_image'])\n",
    "    image_table['accuracy'] = np.linalg.norm(image_table['residuals'], axis=1)"
   ]
  },
  {
   "cell_type": "code",
   "execution_count": null,
   "metadata": {},
   "outputs": [],
   "source": [
    "add_residuals_to_table(image_table)\n",
    "image_table[:3]"
   ]
  },
  {
   "cell_type": "code",
   "execution_count": null,
   "metadata": {},
   "outputs": [],
   "source": [
    "plt.hist(image_table['residuals'].ravel(), log=True, bins=100, range=(-20, 20));\n",
    "print(\"residuals mean: \", np.mean(np.abs(image_table['residuals'])))"
   ]
  },
  {
   "cell_type": "code",
   "execution_count": null,
   "metadata": {},
   "outputs": [],
   "source": [
    "plt.hist(image_table['accuracy'], bins=100, range=(0, 100));"
   ]
  },
  {
   "cell_type": "code",
   "execution_count": null,
   "metadata": {},
   "outputs": [],
   "source": [
    "from matplotlib.colors import Normalize\n",
    "\n",
    "def display_row(geometry, image_table, row_index=0):\n",
    "    fig, axes = plt.subplots(1, 3, figsize=(20,5))\n",
    "    row = image_table[row_index]\n",
    "\n",
    "    display = CameraDisplay(geometry, row['image'], ax=axes[0])\n",
    "    display.add_colorbar()\n",
    "    display.highlight_pixels(row['image_mask'], color='red', alpha=0.3)\n",
    "    display.axes.set_title('image')\n",
    "    \n",
    "    display = CameraDisplay(geometry, row['true_image'], ax=axes[1])\n",
    "    display.add_colorbar()\n",
    "    display.axes.set_title('true_image')\n",
    "    \n",
    "    if 'residuals' in row.colnames:\n",
    "        display = CameraDisplay(geometry, row['residuals'], ax=axes[2], cmap='RdBu')\n",
    "        max_pe = np.max(np.abs(row['residuals']))\n",
    "        display.add_colorbar()\n",
    "        display.set_limits_minmax(-max_pe, max_pe)\n",
    "        display.axes.set_title('residuals')\n",
    "        \n",
    "    return axes"
   ]
  },
  {
   "cell_type": "code",
   "execution_count": null,
   "metadata": {},
   "outputs": [],
   "source": [
    "image_table[4]"
   ]
  },
  {
   "cell_type": "code",
   "execution_count": null,
   "metadata": {},
   "outputs": [],
   "source": [
    "display_row(geometry, image_table, 4);"
   ]
  },
  {
   "cell_type": "code",
   "execution_count": null,
   "metadata": {},
   "outputs": [],
   "source": []
  },
  {
   "cell_type": "markdown",
   "metadata": {},
   "source": [
    "## Find tailcut parameters that minimise residuals"
   ]
  },
  {
   "cell_type": "code",
   "execution_count": null,
   "metadata": {},
   "outputs": [],
   "source": [
    "def thresholds_grid(image_table, pt_array=np.linspace(3, 12, 10)):\n",
    "    acc = []\n",
    "    picture_threshold = []\n",
    "    boundary_threshold = []\n",
    "    for pt in pt_array:\n",
    "        for bt in np.linspace(0, pt, len(pt_array)):\n",
    "            picture_threshold.append(pt)\n",
    "            boundary_threshold.append(bt)\n",
    "            tailcut_opt = dict(picture_thresh=pt, boundary_thresh=bt)\n",
    "            image_mask = [tailcuts_clean(geometry, image, **tailcut_opt) for image in image_table['image']]\n",
    "            image_table['image_mask'] = image_mask\n",
    "            add_residuals_to_table(image_table)\n",
    "#             acc.append(np.mean(image_table['accuracy']))\n",
    "            acc.append((np.linalg.norm(image_table['residuals'].ravel(), ord=2))/image_table['residuals'].ravel().shape[0])\n",
    "            \n",
    "    return np.array(picture_threshold), np.array(boundary_threshold), np.array(acc)\n",
    "\n",
    "\n",
    "def best_thresholds(picture_threshold, boundary_threshold, accuracy):\n",
    "    \"\"\"\n",
    "    return picture_threshold, boundary_threshold\n",
    "    \"\"\"\n",
    "    return picture_threshold[np.argmin(acc)], boundary_threshold[np.argmin(acc)]"
   ]
  },
  {
   "cell_type": "code",
   "execution_count": null,
   "metadata": {},
   "outputs": [],
   "source": [
    "def plot_threshold_heatmap(picture_threshold, boundary_threshold, accuracy):\n",
    "    fig, ax = plt.subplots(figsize=(10, 6))\n",
    "    im = ax.tricontourf(picture_threshold,boundary_threshold,acc)\n",
    "    cbar = plt.colorbar(im)\n",
    "    ax.set_xlabel('picture threshold')\n",
    "    ax.set_ylabel('boundary threhsold')\n",
    "    cbar.set_label('accuracy')\n",
    "    ax.axis('equal')\n",
    "    return ax"
   ]
  },
  {
   "cell_type": "code",
   "execution_count": null,
   "metadata": {},
   "outputs": [],
   "source": []
  },
  {
   "cell_type": "code",
   "execution_count": null,
   "metadata": {},
   "outputs": [],
   "source": [
    "for tel_type in telescope_types:\n",
    "    print(f\"---- {tel_type} ----\")\n",
    "    geometry = subarray.tels[subarray.get_tel_ids_for_type(tel_type)[0]].camera.geometry\n",
    "    image_table = read_images_from_telescope_type(filename, tel_type)[:1000]\n",
    "    add_residuals_to_table(image_table)\n",
    "    print(\"Example:\")\n",
    "    display_row(geometry, image_table, 0)\n",
    "    plt.show()\n",
    "    \n",
    "    pt, bt, acc = thresholds_grid(image_table, np.linspace(4, 20, 10))\n",
    "    print(f\"best threshold for {tel_type}: {best_thresholds(pt, bt, acc)}\")\n",
    "    plot_threshold_heatmap(pt, bt, acc)\n",
    "    plt.show()"
   ]
  },
  {
   "cell_type": "code",
   "execution_count": null,
   "metadata": {},
   "outputs": [],
   "source": []
  },
  {
   "cell_type": "code",
   "execution_count": null,
   "metadata": {},
   "outputs": [],
   "source": []
  }
 ],
 "metadata": {
  "celltoolbar": "Tags",
  "kernelspec": {
   "display_name": "Python 3",
   "language": "python",
   "name": "python3"
  },
  "language_info": {
   "codemirror_mode": {
    "name": "ipython",
    "version": 3
   },
   "file_extension": ".py",
   "mimetype": "text/x-python",
   "name": "python",
   "nbconvert_exporter": "python",
   "pygments_lexer": "ipython3",
   "version": "3.8.8"
  },
  "nteract": {
   "version": "0.12.3"
  }
 },
 "nbformat": 4,
 "nbformat_minor": 2
}
